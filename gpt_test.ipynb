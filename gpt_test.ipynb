{
 "cells": [
  {
   "cell_type": "code",
   "execution_count": 1,
   "metadata": {},
   "outputs": [],
   "source": [
    "import os\n",
    "import time\n",
    "import datetime\n",
    "\n",
    "import pandas as pd\n",
    "import seaborn as sns\n",
    "import numpy as np\n",
    "import random\n",
    "\n",
    "import matplotlib.pyplot as plt\n",
    "\n",
    "import torch\n",
    "from torch.utils.data import Dataset, DataLoader, random_split, RandomSampler, SequentialSampler\n",
    "torch.manual_seed(42)\n",
    "\n",
    "from transformers import GPT2LMHeadModel,  GPT2Tokenizer, GPT2Config, GPT2LMHeadModel\n",
    "from transformers import AdamW, get_linear_schedule_with_warmup\n"
   ]
  },
  {
   "cell_type": "code",
   "execution_count": 4,
   "metadata": {},
   "outputs": [
    {
     "name": "stderr",
     "output_type": "stream",
     "text": [
      "Special tokens have been added in the vocabulary, make sure the associated word embeddings are fine-tuned or trained.\n"
     ]
    }
   ],
   "source": [
    "tokenizer = GPT2Tokenizer.from_pretrained('gpt2', bos_token='<|startoftext|>', eos_token='<|endoftext|>', pad_token='<|pad|>') #gpt2-medium\n"
   ]
  },
  {
   "cell_type": "code",
   "execution_count": 5,
   "metadata": {},
   "outputs": [
    {
     "data": {
      "text/plain": [
       "Embedding(50259, 768)"
      ]
     },
     "execution_count": 5,
     "metadata": {},
     "output_type": "execute_result"
    }
   ],
   "source": [
    "path = 'C:/Users/wjtay/Documents/GitHub/medicalbot/gpt_models/model_save_3'\n",
    "model =  GPT2LMHeadModel.from_pretrained('C:/Users/wjtay/Documents/GitHub/medicalbot/gpt_models/model_save_3_lasseOnly_30')\n",
    "model.resize_token_embeddings(len(tokenizer))"
   ]
  },
  {
   "cell_type": "code",
   "execution_count": 6,
   "metadata": {},
   "outputs": [
    {
     "name": "stderr",
     "output_type": "stream",
     "text": [
      "Setting `pad_token_id` to `eos_token_id`:50256 for open-end generation.\n"
     ]
    },
    {
     "name": "stdout",
     "output_type": "stream",
     "text": [
      "tensor([[50257,    27,    91, 25652,    91,    29, 26110,   265,   257,  1643,\n",
      "         19597,   290,   765,   284,   651,   257,   922,   545,  1726, 30430,\n",
      "            11,  2592,   287,  1657,   286,   262,  9471,    13,  3387, 18595,\n",
      "            13,   423,   407,   587,   287,  2800,   351,   299,    88,   505,\n",
      "           351,   262,  9471, 29847,    91, 41484,    91,    29]])\n",
      "0: <|question|>throat a bit sore and want to get a good imune booster, especially in light of the virus. please advise. have not been in contact with nyone with the virus.<|answer|>most helpful answer that would be fine. the virus is called h1n1 so you'd be well-advised to do this. the sooner you know for sure the better. as you know hepatitis b and hepatitis c can be transmitted very easily and most cases of the virus are in the liver. why in the world would you want a booster? it's not likely the virus is transmitted that way. it's more likely you'll spend your energy and time looking for an effective vaccine against hepatitis a and hepatitis b. again it would be best to do a lot of research on this topic. webmd has a great \"tattoo\" to help you determine if you need an hiv transmission or if you're talking about a vaccine.\n",
      "\n",
      "\n",
      "1: <|question|>throat a bit sore and want to get a good imune booster, especially in light of the virus. please advise. have not been in contact with nyone with the virus.<|answer|>most helpful answer this is a question that i got this past weekend. j. m. d. so you should be able to find information about the virus by checking the u. s. health service of the u. s. white pages here: <link> and webmd's a great place to ask tons of questions about just about viral infections. good luck!\n",
      "\n",
      "\n",
      "2: <|question|>throat a bit sore and want to get a good imune booster, especially in light of the virus. please advise. have not been in contact with nyone with the virus.<|answer|>most helpful answer that would not be possible. your sore throat is located in the right area of the eruption so there is really no way for me to know if you have strep. it would be advisable for you to be properly examined and tested. if you want a booster then this would be a location to see your medical provider.\n",
      "\n",
      "\n"
     ]
    }
   ],
   "source": [
    "model.eval()\n",
    "\n",
    "q1 = \"throat a bit sore and want to get a good imune booster, especially in light of the virus. please advise. have not been in contact with nyone with the virus.\"\n",
    "q2 = \"i need a list of foods that i can eat and list of foods to avoid with pancreatitis\"\n",
    "q3 = \"i made a mistake and i bought 9 to 24 months formula for my newborn. can he drink it?\"\n",
    "q4 = \"i think i have bone cancer. what should i do?\"\n",
    "q5 = \"i have covid-19 what should i do?\"\n",
    "\n",
    "prompt = f\"<|startoftext|><|question|>{q1}<|answer|>\"\n",
    "\n",
    "generated = torch.tensor(tokenizer.encode(prompt)).unsqueeze(0)\n",
    "# generated = generated.to(device)\n",
    "\n",
    "print(generated)\n",
    "\n",
    "sample_outputs = model.generate(\n",
    "                                generated, \n",
    "                                #bos_token_id=random.randint(1,30000),\n",
    "                                do_sample=True,   \n",
    "                                top_k=50, \n",
    "                                max_length = 300,\n",
    "                                top_p=0.95, \n",
    "                                num_return_sequences=3\n",
    "                                )\n",
    "\n",
    "for i, sample_output in enumerate(sample_outputs):\n",
    "  print(\"{}: {}\\n\\n\".format(i, tokenizer.decode(sample_output, skip_special_tokens=True)))"
   ]
  },
  {
   "cell_type": "code",
   "execution_count": null,
   "metadata": {},
   "outputs": [
    {
     "data": {
      "text/plain": [
       "Embedding(50259, 768)"
      ]
     },
     "execution_count": 8,
     "metadata": {},
     "output_type": "execute_result"
    }
   ],
   "source": [
    "configuration = GPT2Config.from_pretrained('gpt2', output_hidden_states=False)\n",
    "model2 = GPT2LMHeadModel.from_pretrained(\"gpt2\", config=configuration)\n",
    "model2.resize_token_embeddings(len(tokenizer))"
   ]
  },
  {
   "cell_type": "code",
   "execution_count": 14,
   "metadata": {},
   "outputs": [
    {
     "name": "stderr",
     "output_type": "stream",
     "text": [
      "Setting `pad_token_id` to `eos_token_id`:50256 for open-end generation.\n"
     ]
    },
    {
     "name": "stdout",
     "output_type": "stream",
     "text": [
      "tensor([[50257,  1820,  3367,   468,   751,   290, 11607, 15998,    13,   339,\n",
      "           468,   587,  7675,   319, 10010,    64,   329,   718,    10,   812,\n",
      "            13,   460,   345,  1037,   351,   465,  3463,  2994,    30]])\n",
      "0: my son has add and mild autism. he has been successfully on concerta for 6+ years. can you help with his weight loss?\n",
      "\n",
      "\n",
      "1: my son has add and mild autism. he has been successfully on concerta for 6+ years. can you help with his weight loss?\n",
      "\n",
      "\n",
      "2: my son has add and mild autism. he has been successfully on concerta for 6+ years. can you help with his weight loss?\n",
      "\n",
      "\n"
     ]
    }
   ],
   "source": [
    "model2.eval()\n",
    "\n",
    "prompt = \"<|startoftext|>my son has add and mild autism. he has been successfully on concerta for 6+ years. can you help with his weight loss?\"\n",
    "\n",
    "generated = torch.tensor(tokenizer.encode(prompt)).unsqueeze(0)\n",
    "# generated = generated.to(device)\n",
    "\n",
    "print(generated)\n",
    "\n",
    "sample_outputs = model2.generate(\n",
    "                                generated, \n",
    "                                #bos_token_id=random.randint(1,30000),\n",
    "                                do_sample=True,   \n",
    "                                top_k=50, \n",
    "                                max_length = 300,\n",
    "                                top_p=0.95, \n",
    "                                num_return_sequences=3\n",
    "                                )\n",
    "\n",
    "for i, sample_output in enumerate(sample_outputs):\n",
    "  print(\"{}: {}\\n\\n\".format(i, tokenizer.decode(sample_output, skip_special_tokens=True)))"
   ]
  },
  {
   "cell_type": "code",
   "execution_count": 7,
   "metadata": {},
   "outputs": [
    {
     "name": "stdout",
     "output_type": "stream",
     "text": [
      "(252376, 6)\n"
     ]
    },
    {
     "data": {
      "text/html": [
       "<div>\n",
       "<style scoped>\n",
       "    .dataframe tbody tr th:only-of-type {\n",
       "        vertical-align: middle;\n",
       "    }\n",
       "\n",
       "    .dataframe tbody tr th {\n",
       "        vertical-align: top;\n",
       "    }\n",
       "\n",
       "    .dataframe thead th {\n",
       "        text-align: right;\n",
       "    }\n",
       "</style>\n",
       "<table border=\"1\" class=\"dataframe\">\n",
       "  <thead>\n",
       "    <tr style=\"text-align: right;\">\n",
       "      <th></th>\n",
       "      <th>chi_ques</th>\n",
       "      <th>chi_ans</th>\n",
       "      <th>translated_ques</th>\n",
       "      <th>translated_ans</th>\n",
       "      <th>ques_embeddings</th>\n",
       "      <th>ans_embeddings</th>\n",
       "    </tr>\n",
       "  </thead>\n",
       "  <tbody>\n",
       "    <tr>\n",
       "      <th>0</th>\n",
       "      <td>孩子现在3个月脖子底下有几个白点。我女儿在12岁时确诊白癜风在您那儿看过3年。</td>\n",
       "      <td>有什么问题？你咨询什么问题？</td>\n",
       "      <td>The child now has a few white spots under his ...</td>\n",
       "      <td>What's the problem? What's your problem?</td>\n",
       "      <td>[-0.2827191, 0.012174562, 0.024500186, 0.04807...</td>\n",
       "      <td>[-0.12925228, 0.10621817, 0.29937854, 0.096656...</td>\n",
       "    </tr>\n",
       "    <tr>\n",
       "      <th>1</th>\n",
       "      <td>你好宋主任，我孩子在在3个月零4天，一月多的时候在脖子底下发现右边的2个小点，现在又多了几个...</td>\n",
       "      <td>可能是病情加重。外用，氢化可的松乳膏，1周。</td>\n",
       "      <td>Hello Director Song, my child found two small ...</td>\n",
       "      <td>May be an aggravating condition.Expensive, hyd...</td>\n",
       "      <td>[-0.56284606, 0.17413892, -0.10060163, 0.22733...</td>\n",
       "      <td>[-0.62165433, 0.42986757, 0.28782034, 0.223168...</td>\n",
       "    </tr>\n",
       "    <tr>\n",
       "      <th>2</th>\n",
       "      <td>是不是白癜风？</td>\n",
       "      <td>可能是。</td>\n",
       "      <td>Is it white wind?</td>\n",
       "      <td>Probably.</td>\n",
       "      <td>[-0.093509056, -0.040177014, -0.39707142, -0.0...</td>\n",
       "      <td>[-0.12069199, -0.102622055, -0.12168181, -0.12...</td>\n",
       "    </tr>\n",
       "    <tr>\n",
       "      <th>3</th>\n",
       "      <td>这么小能治疗好吗？</td>\n",
       "      <td>白癜风顽固难治，我会尽力而为。外用，丁酸氢化可的松乳膏。1周后，再调整方案，</td>\n",
       "      <td>Can you treat them so small?</td>\n",
       "      <td>The white wind is stubborn, and I'll do my bes...</td>\n",
       "      <td>[-0.24059688, 0.054735653, -0.34177434, 0.0561...</td>\n",
       "      <td>[-0.005773922, 0.09757822, -0.113308996, -0.18...</td>\n",
       "    </tr>\n",
       "    <tr>\n",
       "      <th>4</th>\n",
       "      <td>刚开始的时候四周有点发红，一个多月的时候，刚开始右边2个小白点，现在在左边有多了2个小白点，...</td>\n",
       "      <td>如果有时间，请到门诊找我。</td>\n",
       "      <td>A little red around the beginning, a little o...</td>\n",
       "      <td>If you have time, please call me at the clinic.</td>\n",
       "      <td>[-0.22099203, 0.01855816, -0.46618676, 0.24104...</td>\n",
       "      <td>[-0.3536638, 0.14416037, -0.24101704, 0.273966...</td>\n",
       "    </tr>\n",
       "  </tbody>\n",
       "</table>\n",
       "</div>"
      ],
      "text/plain": [
       "                                            chi_ques  \\\n",
       "0            孩子现在3个月脖子底下有几个白点。我女儿在12岁时确诊白癜风在您那儿看过3年。   \n",
       "1  你好宋主任，我孩子在在3个月零4天，一月多的时候在脖子底下发现右边的2个小点，现在又多了几个...   \n",
       "2                                            是不是白癜风？   \n",
       "3                                          这么小能治疗好吗？   \n",
       "4  刚开始的时候四周有点发红，一个多月的时候，刚开始右边2个小白点，现在在左边有多了2个小白点，...   \n",
       "\n",
       "                                  chi_ans  \\\n",
       "0                          有什么问题？你咨询什么问题？   \n",
       "1                  可能是病情加重。外用，氢化可的松乳膏，1周。   \n",
       "2                                    可能是。   \n",
       "3  白癜风顽固难治，我会尽力而为。外用，丁酸氢化可的松乳膏。1周后，再调整方案，   \n",
       "4                           如果有时间，请到门诊找我。   \n",
       "\n",
       "                                     translated_ques  \\\n",
       "0  The child now has a few white spots under his ...   \n",
       "1  Hello Director Song, my child found two small ...   \n",
       "2                                  Is it white wind?   \n",
       "3                       Can you treat them so small?   \n",
       "4   A little red around the beginning, a little o...   \n",
       "\n",
       "                                      translated_ans  \\\n",
       "0           What's the problem? What's your problem?   \n",
       "1  May be an aggravating condition.Expensive, hyd...   \n",
       "2                                          Probably.   \n",
       "3  The white wind is stubborn, and I'll do my bes...   \n",
       "4    If you have time, please call me at the clinic.   \n",
       "\n",
       "                                     ques_embeddings  \\\n",
       "0  [-0.2827191, 0.012174562, 0.024500186, 0.04807...   \n",
       "1  [-0.56284606, 0.17413892, -0.10060163, 0.22733...   \n",
       "2  [-0.093509056, -0.040177014, -0.39707142, -0.0...   \n",
       "3  [-0.24059688, 0.054735653, -0.34177434, 0.0561...   \n",
       "4  [-0.22099203, 0.01855816, -0.46618676, 0.24104...   \n",
       "\n",
       "                                      ans_embeddings  \n",
       "0  [-0.12925228, 0.10621817, 0.29937854, 0.096656...  \n",
       "1  [-0.62165433, 0.42986757, 0.28782034, 0.223168...  \n",
       "2  [-0.12069199, -0.102622055, -0.12168181, -0.12...  \n",
       "3  [-0.005773922, 0.09757822, -0.113308996, -0.18...  \n",
       "4  [-0.3536638, 0.14416037, -0.24101704, 0.273966...  "
      ]
     },
     "metadata": {},
     "output_type": "display_data"
    },
    {
     "name": "stdout",
     "output_type": "stream",
     "text": [
      "(229730, 2)\n"
     ]
    }
   ],
   "source": [
    "\n",
    "import pandas as pd\n",
    "import pickle\n",
    "# with open('filename.pickle', 'wb') as handle:\n",
    "#     pickle.dump(your_data, handle, protocol=pickle.HIGHEST_PROTOCOL)\n",
    "\n",
    "# Load data (deserialize)\n",
    "# with open('training_data/MBERT_Lasse_FAISS_embeddings.pkl', 'rb') as handle:\n",
    "with open('gpu_data/FAISS_BERT_chi_embeddings.pkl', 'rb') as handle:\n",
    "    unserialized_data = pickle.load(handle)\n",
    "\n",
    "training_df1 = pd.DataFrame(unserialized_data)\n",
    "print(training_df1.shape)\n",
    "display(training_df1.head())\n",
    "\n",
    "training_df2 = pd.read_csv('translated_1_2_3.csv')\n",
    "print(training_df2.shape)\n",
    "\n",
    "\n",
    "# with open('gpu_data/BERT_Lasse_Only_FAISS_embeddings.pkl', 'rb') as handle:\n",
    "#     unserialized_data = pickle.load(handle)\n",
    "\n",
    "# training_df2 = pd.DataFrame(unserialized_data)\n",
    "# print(training_df2.shape)"
   ]
  },
  {
   "cell_type": "code",
   "execution_count": 7,
   "metadata": {},
   "outputs": [
    {
     "name": "stdout",
     "output_type": "stream",
     "text": [
      "set1: 31008\n",
      "set2: 31105\n",
      "diff 2007\n"
     ]
    }
   ],
   "source": [
    "set1 = set()\n",
    "for idx, row in training_df1.iterrows():\n",
    "    item = tuple([row['question'], row['answer']])\n",
    "    set1.add(item)\n",
    "\n",
    "set2 = set()\n",
    "for idx, row in training_df2.iterrows():\n",
    "    item = tuple([row['question'], row['answer']])\n",
    "    set2.add(item)\n",
    "\n",
    "print(f'set1: {len(set1)}')\n",
    "print(f'set2: {len(set2)}')\n",
    "\n",
    "diff = set1.symmetric_difference(set2)\n",
    "print(f'diff {len(diff)}')"
   ]
  },
  {
   "cell_type": "code",
   "execution_count": 5,
   "metadata": {},
   "outputs": [
    {
     "name": "stdout",
     "output_type": "stream",
     "text": [
      "why am i bleeding after taking contraceptive pill?\n",
      "should i take some medicine to stop heavy bleeding after an i-pill?\n",
      "can antibiotics interfere with the depo-provera birth control shot the way they do with oral contraceptives?\n",
      "will antibiotics reduce the effect of oral contraceptive pills?\n"
     ]
    }
   ],
   "source": [
    "print(training_df.iloc[-41][\"question\"])\n",
    "print(training_df.iloc[-42][\"question\"])\n",
    "print(training_df.iloc[-43][\"question\"])\n",
    "print(training_df.iloc[-44][\"question\"])"
   ]
  },
  {
   "cell_type": "code",
   "execution_count": 9,
   "metadata": {},
   "outputs": [
    {
     "data": {
      "text/html": [
       "<div>\n",
       "<style scoped>\n",
       "    .dataframe tbody tr th:only-of-type {\n",
       "        vertical-align: middle;\n",
       "    }\n",
       "\n",
       "    .dataframe tbody tr th {\n",
       "        vertical-align: top;\n",
       "    }\n",
       "\n",
       "    .dataframe thead th {\n",
       "        text-align: right;\n",
       "    }\n",
       "</style>\n",
       "<table border=\"1\" class=\"dataframe\">\n",
       "  <thead>\n",
       "    <tr style=\"text-align: right;\">\n",
       "      <th></th>\n",
       "      <th>question</th>\n",
       "      <th>answer</th>\n",
       "      <th>question_embedding</th>\n",
       "      <th>answer_embedding</th>\n",
       "    </tr>\n",
       "  </thead>\n",
       "  <tbody>\n",
       "    <tr>\n",
       "      <th>29531</th>\n",
       "      <td>should i take some medicine to stop heavy blee...</td>\n",
       "      <td>the bleeding could be due to withdrawal effect...</td>\n",
       "      <td>[-0.4998133, 0.21075934, -0.1710357, 0.1950991...</td>\n",
       "      <td>[-0.12213257, 0.26806858, 0.04654521, 0.139121...</td>\n",
       "    </tr>\n",
       "    <tr>\n",
       "      <th>31743</th>\n",
       "      <td>should i take some medicine to stop heavy blee...</td>\n",
       "      <td>the extra bleeding could be due to the pill. h...</td>\n",
       "      <td>[-0.4998133, 0.21075934, -0.1710357, 0.1950991...</td>\n",
       "      <td>[-0.2732135, -0.006451058, 0.19289777, 0.24179...</td>\n",
       "    </tr>\n",
       "    <tr>\n",
       "      <th>31746</th>\n",
       "      <td>should i take some medicine to stop heavy blee...</td>\n",
       "      <td>the extra bleeding could be due to the pill. h...</td>\n",
       "      <td>[-0.4232357, 0.27518612, -0.1223748, 0.1546501...</td>\n",
       "      <td>[-0.12213257, 0.26806858, 0.04654521, 0.139121...</td>\n",
       "    </tr>\n",
       "  </tbody>\n",
       "</table>\n",
       "</div>"
      ],
      "text/plain": [
       "                                                question  \\\n",
       "29531  should i take some medicine to stop heavy blee...   \n",
       "31743  should i take some medicine to stop heavy blee...   \n",
       "31746  should i take some medicine to stop heavy blee...   \n",
       "\n",
       "                                                  answer  \\\n",
       "29531  the bleeding could be due to withdrawal effect...   \n",
       "31743  the extra bleeding could be due to the pill. h...   \n",
       "31746  the extra bleeding could be due to the pill. h...   \n",
       "\n",
       "                                      question_embedding  \\\n",
       "29531  [-0.4998133, 0.21075934, -0.1710357, 0.1950991...   \n",
       "31743  [-0.4998133, 0.21075934, -0.1710357, 0.1950991...   \n",
       "31746  [-0.4232357, 0.27518612, -0.1223748, 0.1546501...   \n",
       "\n",
       "                                        answer_embedding  \n",
       "29531  [-0.12213257, 0.26806858, 0.04654521, 0.139121...  \n",
       "31743  [-0.2732135, -0.006451058, 0.19289777, 0.24179...  \n",
       "31746  [-0.12213257, 0.26806858, 0.04654521, 0.139121...  "
      ]
     },
     "metadata": {},
     "output_type": "display_data"
    }
   ],
   "source": [
    "display(training_df[training_df[\"question\"] == \"should i take some medicine to stop heavy bleeding after an i-pill?\"])"
   ]
  },
  {
   "cell_type": "code",
   "execution_count": 21,
   "metadata": {},
   "outputs": [
    {
     "name": "stdout",
     "output_type": "stream",
     "text": [
      "[ True  True  True  True  True  True  True  True  True  True  True  True\n",
      "  True  True  True  True  True  True  True  True  True  True  True  True\n",
      "  True  True  True  True  True  True  True  True  True  True  True  True\n",
      "  True  True  True  True  True  True  True  True  True  True  True  True\n",
      "  True  True  True  True  True  True  True  True  True  True  True  True\n",
      "  True  True  True  True  True  True  True  True  True  True  True  True\n",
      "  True  True  True  True  True  True  True  True  True  True  True  True\n",
      "  True  True  True  True  True  True  True  True  True  True  True  True\n",
      "  True  True  True  True  True  True  True  True  True  True  True  True\n",
      "  True  True  True  True  True  True  True  True  True  True  True  True\n",
      "  True  True  True  True  True  True  True  True  True  True  True  True\n",
      "  True  True  True  True  True  True  True  True  True  True  True  True\n",
      "  True  True  True  True  True  True  True  True  True  True  True  True\n",
      "  True  True  True  True  True  True  True  True  True  True  True  True\n",
      "  True  True  True  True  True  True  True  True  True  True  True  True\n",
      "  True  True  True  True  True  True  True  True  True  True  True  True\n",
      "  True  True  True  True  True  True  True  True  True  True  True  True\n",
      "  True  True  True  True  True  True  True  True  True  True  True  True\n",
      "  True  True  True  True  True  True  True  True  True  True  True  True\n",
      "  True  True  True  True  True  True  True  True  True  True  True  True\n",
      "  True  True  True  True  True  True  True  True  True  True  True  True\n",
      "  True  True  True  True  True  True  True  True  True  True  True  True\n",
      "  True  True  True  True  True  True  True  True  True  True  True  True\n",
      "  True  True  True  True  True  True  True  True  True  True  True  True\n",
      "  True  True  True  True  True  True  True  True  True  True  True  True\n",
      "  True  True  True  True  True  True  True  True  True  True  True  True\n",
      "  True  True  True  True  True  True  True  True  True  True  True  True\n",
      "  True  True  True  True  True  True  True  True  True  True  True  True\n",
      "  True  True  True  True  True  True  True  True  True  True  True  True\n",
      "  True  True  True  True  True  True  True  True  True  True  True  True\n",
      "  True  True  True  True  True  True  True  True  True  True  True  True\n",
      "  True  True  True  True  True  True  True  True  True  True  True  True\n",
      "  True  True  True  True  True  True  True  True  True  True  True  True\n",
      "  True  True  True  True  True  True  True  True  True  True  True  True\n",
      "  True  True  True  True  True  True  True  True  True  True  True  True\n",
      "  True  True  True  True  True  True  True  True  True  True  True  True\n",
      "  True  True  True  True  True  True  True  True  True  True  True  True\n",
      "  True  True  True  True  True  True  True  True  True  True  True  True\n",
      "  True  True  True  True  True  True  True  True  True  True  True  True\n",
      "  True  True  True  True  True  True  True  True  True  True  True  True\n",
      "  True  True  True  True  True  True  True  True  True  True  True  True\n",
      "  True  True  True  True  True  True  True  True  True  True  True  True\n",
      "  True  True  True  True  True  True  True  True  True  True  True  True\n",
      "  True  True  True  True  True  True  True  True  True  True  True  True\n",
      "  True  True  True  True  True  True  True  True  True  True  True  True\n",
      "  True  True  True  True  True  True  True  True  True  True  True  True\n",
      "  True  True  True  True  True  True  True  True  True  True  True  True\n",
      "  True  True  True  True  True  True  True  True  True  True  True  True\n",
      "  True  True  True  True  True  True  True  True  True  True  True  True\n",
      "  True  True  True  True  True  True  True  True  True  True  True  True\n",
      "  True  True  True  True  True  True  True  True  True  True  True  True\n",
      "  True  True  True  True  True  True  True  True  True  True  True  True\n",
      "  True  True  True  True  True  True  True  True  True  True  True  True\n",
      "  True  True  True  True  True  True  True  True  True  True  True  True\n",
      "  True  True  True  True  True  True  True  True  True  True  True  True\n",
      "  True  True  True  True  True  True  True  True  True  True  True  True\n",
      "  True  True  True  True  True  True  True  True  True  True  True  True\n",
      "  True  True  True  True  True  True  True  True  True  True  True  True\n",
      "  True  True  True  True  True  True  True  True  True  True  True  True\n",
      "  True  True  True  True  True  True  True  True  True  True  True  True\n",
      "  True  True  True  True  True  True  True  True  True  True  True  True\n",
      "  True  True  True  True  True  True  True  True  True  True  True  True\n",
      "  True  True  True  True  True  True  True  True  True  True  True  True\n",
      "  True  True  True  True  True  True  True  True  True  True  True  True]\n"
     ]
    }
   ],
   "source": [
    "print(training_df.iloc[29531][\"question_embedding\"] == training_df.iloc[31743][\"question_embedding\"])"
   ]
  },
  {
   "cell_type": "code",
   "execution_count": 19,
   "metadata": {},
   "outputs": [
    {
     "name": "stdout",
     "output_type": "stream",
     "text": [
      "should i take some medicine to stop heavy bleeding after an i-pill?\n"
     ]
    }
   ],
   "source": [
    "print(training_df.iloc[29531][\"question\"])"
   ]
  },
  {
   "cell_type": "code",
   "execution_count": null,
   "metadata": {},
   "outputs": [],
   "source": []
  }
 ],
 "metadata": {
  "interpreter": {
   "hash": "2db524e06e9f5f4ffedc911c917cb75e12dbc923643829bf417064a77eb14d37"
  },
  "kernelspec": {
   "display_name": "Python 3.8.2 64-bit",
   "name": "python3"
  },
  "language_info": {
   "codemirror_mode": {
    "name": "ipython",
    "version": 3
   },
   "file_extension": ".py",
   "mimetype": "text/x-python",
   "name": "python",
   "nbconvert_exporter": "python",
   "pygments_lexer": "ipython3",
   "version": "3.8.2"
  },
  "orig_nbformat": 4
 },
 "nbformat": 4,
 "nbformat_minor": 2
}
