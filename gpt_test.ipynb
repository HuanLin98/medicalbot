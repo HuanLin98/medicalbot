{
 "cells": [
  {
   "cell_type": "code",
   "execution_count": 6,
   "metadata": {},
   "outputs": [],
   "source": [
    "import os\n",
    "import time\n",
    "import datetime\n",
    "\n",
    "import pandas as pd\n",
    "import seaborn as sns\n",
    "import numpy as np\n",
    "import random\n",
    "\n",
    "import matplotlib.pyplot as plt\n",
    "\n",
    "\n",
    "import torch\n",
    "from torch.utils.data import Dataset, DataLoader, random_split, RandomSampler, SequentialSampler\n",
    "torch.manual_seed(42)\n",
    "\n",
    "from transformers import GPT2LMHeadModel,  GPT2Tokenizer, GPT2Config, GPT2LMHeadModel\n",
    "from transformers import AdamW, get_linear_schedule_with_warmup\n"
   ]
  },
  {
   "cell_type": "code",
   "execution_count": 3,
   "metadata": {},
   "outputs": [
    {
     "name": "stderr",
     "output_type": "stream",
     "text": [
      "Special tokens have been added in the vocabulary, make sure the associated word embeddings are fine-tuned or trained.\n"
     ]
    }
   ],
   "source": [
    "tokenizer = GPT2Tokenizer.from_pretrained('gpt2', bos_token='<|startoftext|>', eos_token='<|endoftext|>', pad_token='<|pad|>') #gpt2-medium\n"
   ]
  },
  {
   "cell_type": "code",
   "execution_count": 4,
   "metadata": {},
   "outputs": [
    {
     "data": {
      "text/plain": [
       "Embedding(50259, 768)"
      ]
     },
     "execution_count": 4,
     "metadata": {},
     "output_type": "execute_result"
    }
   ],
   "source": [
    "path = 'C:/Users/wjtay/Documents/GitHub/medicalbot/gpt_models/model_save_3'\n",
    "model =  GPT2LMHeadModel.from_pretrained('C:/Users/wjtay/Documents/GitHub/medicalbot/gpt_models/model_save_3')\n",
    "model.resize_token_embeddings(len(tokenizer))"
   ]
  },
  {
   "cell_type": "code",
   "execution_count": 9,
   "metadata": {},
   "outputs": [
    {
     "name": "stderr",
     "output_type": "stream",
     "text": [
      "Setting `pad_token_id` to `eos_token_id`:50256 for open-end generation.\n"
     ]
    },
    {
     "name": "stdout",
     "output_type": "stream",
     "text": [
      "tensor([[50257,    27,    91, 25652,    91,    29,    72,   423, 39849,   312,\n",
      "            12,  1129,   644,   815,  1312,   466,    30,    27,    91, 41484,\n",
      "            91,    29]])\n",
      "0: <|question|>i have covid-19 what should i do?<|answer|>do not adjust your diet prior to surgery. a few times a week not sooner than one week. eat a well nourishing diet that is rich in vitamins and minerals. you will need to work with your healthcare provider to make sure you are getting enough vitamins and minerals. if you become unsure before your surgery call your healthcare provider.\n",
      "\n",
      "\n",
      "1: <|question|>i have covid-19 what should i do?<|answer|>if you are looking for medical assistance with your age and sex then yes you may well qualify. some insurance plans don't cover it and medicare plans cover it. your doctor will have to determine the plans you will need to cover. to determine what type of coverage you will qualify for he or she will ask you and you their questions.\n",
      "\n",
      "\n",
      "2: <|question|>i have covid-19 what should i do?<|answer|>do not take any antifungal medication like ibuprofen naproxen or naproxen as these can cause stomach upset and can lead to ulcers as well. your doctor can help you with the best way to treat the upset stomach.\n",
      "\n",
      "\n"
     ]
    }
   ],
   "source": [
    "model.eval()\n",
    "\n",
    "q1 = \"if i have trouble gaining weight because of my low appetite would a higher intake of the hormone leptin help? . i grew up always considered \"\"underweight\"\" for my age height and sex. people tell me it's just genes or i'm just a small eater but i think it's more than that. i'd like to gain more weight without being unhealthy about it. i have a low appetite and i just read an article on this website about leptin and leptin signals the body's energy-nourishment.\"\n",
    "q2 = \"i need a list of foods that i can eat and list of foods to avoid with pancreatitis\"\n",
    "q3 = \"i made a mistake and i bought 9 to 24 months formula for my newborn. can he drink it?\"\n",
    "q4 = \"i think i have bone cancer. what should i do?\"\n",
    "q5 = \"i have covid-19 what should i do?\"\n",
    "\n",
    "prompt = f\"<|startoftext|><|question|>{q5}<|answer|>\"\n",
    "\n",
    "generated = torch.tensor(tokenizer.encode(prompt)).unsqueeze(0)\n",
    "# generated = generated.to(device)\n",
    "\n",
    "print(generated)\n",
    "\n",
    "sample_outputs = model.generate(\n",
    "                                generated, \n",
    "                                #bos_token_id=random.randint(1,30000),\n",
    "                                do_sample=True,   \n",
    "                                top_k=50, \n",
    "                                max_length = 300,\n",
    "                                top_p=0.95, \n",
    "                                num_return_sequences=3\n",
    "                                )\n",
    "\n",
    "for i, sample_output in enumerate(sample_outputs):\n",
    "  print(\"{}: {}\\n\\n\".format(i, tokenizer.decode(sample_output, skip_special_tokens=True)))"
   ]
  },
  {
   "cell_type": "code",
   "execution_count": 8,
   "metadata": {},
   "outputs": [
    {
     "data": {
      "text/plain": [
       "Embedding(50259, 768)"
      ]
     },
     "execution_count": 8,
     "metadata": {},
     "output_type": "execute_result"
    }
   ],
   "source": [
    "configuration = GPT2Config.from_pretrained('gpt2', output_hidden_states=False)\n",
    "model2 = GPT2LMHeadModel.from_pretrained(\"gpt2\", config=configuration)\n",
    "model2.resize_token_embeddings(len(tokenizer))"
   ]
  },
  {
   "cell_type": "code",
   "execution_count": 14,
   "metadata": {},
   "outputs": [
    {
     "name": "stderr",
     "output_type": "stream",
     "text": [
      "Setting `pad_token_id` to `eos_token_id`:50256 for open-end generation.\n"
     ]
    },
    {
     "name": "stdout",
     "output_type": "stream",
     "text": [
      "tensor([[50257,  1820,  3367,   468,   751,   290, 11607, 15998,    13,   339,\n",
      "           468,   587,  7675,   319, 10010,    64,   329,   718,    10,   812,\n",
      "            13,   460,   345,  1037,   351,   465,  3463,  2994,    30]])\n",
      "0: my son has add and mild autism. he has been successfully on concerta for 6+ years. can you help with his weight loss?\n",
      "\n",
      "\n",
      "1: my son has add and mild autism. he has been successfully on concerta for 6+ years. can you help with his weight loss?\n",
      "\n",
      "\n",
      "2: my son has add and mild autism. he has been successfully on concerta for 6+ years. can you help with his weight loss?\n",
      "\n",
      "\n"
     ]
    }
   ],
   "source": [
    "model2.eval()\n",
    "\n",
    "prompt = \"<|startoftext|>my son has add and mild autism. he has been successfully on concerta for 6+ years. can you help with his weight loss?\"\n",
    "\n",
    "generated = torch.tensor(tokenizer.encode(prompt)).unsqueeze(0)\n",
    "# generated = generated.to(device)\n",
    "\n",
    "print(generated)\n",
    "\n",
    "sample_outputs = model2.generate(\n",
    "                                generated, \n",
    "                                #bos_token_id=random.randint(1,30000),\n",
    "                                do_sample=True,   \n",
    "                                top_k=50, \n",
    "                                max_length = 300,\n",
    "                                top_p=0.95, \n",
    "                                num_return_sequences=3\n",
    "                                )\n",
    "\n",
    "for i, sample_output in enumerate(sample_outputs):\n",
    "  print(\"{}: {}\\n\\n\".format(i, tokenizer.decode(sample_output, skip_special_tokens=True)))"
   ]
  },
  {
   "cell_type": "code",
   "execution_count": 12,
   "metadata": {},
   "outputs": [],
   "source": [
    "import pickle\n",
    "# with open('filename.pickle', 'wb') as handle:\n",
    "#     pickle.dump(your_data, handle, protocol=pickle.HIGHEST_PROTOCOL)\n",
    "\n",
    "# Load data (deserialize)\n",
    "with open('training_data/FAISS_embeddings.pkl', 'rb') as handle:\n",
    "    unserialized_data = pickle.load(handle)\n",
    "\n",
    "training_df = pd.DataFrame(unserialized_data)\n"
   ]
  },
  {
   "cell_type": "code",
   "execution_count": 34,
   "metadata": {},
   "outputs": [
    {
     "name": "stdout",
     "output_type": "stream",
     "text": [
      "ans -- as per the data your weight is too high for an individual. you need to rebuild your lifestyle by giving time to exercise and yogic techniques. especially fast rounds of suryanamaskara will help you with your problems. start slowly and day by day increase the speed of practice. also you can practice some dynamic yogic techniques along with it for faster effects. along with yogic asanas dieting also helps you to get rid of your problems. cut down the carbohydrates like rice and use finger millet and include plenty of fruits and vegetables in your diet. try to consume lemon honey and water daily morning in an empty stomach. please do not consume any fast food or junk food to lose weight. the main thing is that you need to be active in your day-to-day life. give enough time to workout and running meditation is nothing but controlling your mind which ultimately relaxes your mind and body. a relaxed mind will always have a healthy body. you can try practicing nadi shuddhi pranayama for nine rounds as a basic step. later on will proceed further. while practicing pranayama you have to completely concentrate on your breathing pattern and the changes that happening in the body. the probable causes:lifestyle changes. investigations to be done:bmi (body mass index). treatment plan:suryanamskara diet plan - lemon and honey juice consume more fruits and vegetable instead of rice and fast food meditation and pranayama. preventive measures:yogasanas workout running exercises and diet. regarding follow up:for further doubts consult a yoga specialist online. ---> <link>\n",
      "ans -- you are overweight. you have to reduce your weight to around 65 kg to live a healthy life. your lipid status and blood pressure may become normal once you shed those extra kilos. going to the gym is a good initiative and i suggest you not to lift weights until you become 90 kg. first reduce your weight by severe dieting eating very less. i suggest you to walk daily for 40 minutes quickly like 6 km per hour after one or two months convert it into jogging. within two months you must be doing two hours of this every day. after reducing 10 kg you do one hour jogging and one hour gym activity. and never stop your dieting and exercise ever in your life. it will lead to getting the same weight again. for further information consult a general medicine physician online --> <link>\n",
      "ans -- masturbation is actually a normal behavior. but it should not be excessive in frequency which may cause fatigue and back pain. you need not see a doctor right now. just divert your thoughts into much important things in life like studying enjoying outdoor sports finding good friends etc. try to reduce the frequency of the practice to about twice or thrice a week. this is the transient period in everyone's life when urge to explore and also trying to experience new things especially sexual pleasure occurs. as you are physically and mentally mature the problems that you are facing now will resolve spontaneously. apart from this as you said \"proper diet and lifestyle changes\" are to be followed: eat nutritious foods (encourage fruits vegetable salads nuts cereal sprouts). limit processed and deep fried foods. indulge in outdoor sports which you are interested like swimming etc. sleep adequately at least 7-8 hours as it is much needed for your normal growth too. avoid smoking and drinking alcoholic beverages. just follow these for a month and let me know how do you feel. get back to a sexologist online for further follow up --> <link>\n",
      "ans -- it is not good to sit on your anxiety and do nothing. yes it does cause emotional and physical pain. definitely. i've been through it still battle it and know what you mean. you must become proactive. get started immediately to help yourself. few people will understand how you feel. unfortunately. you will have to do a lot but not everything alone. maybe this (below) will help you in some way? i hope so. if money is a barrier and you are suffering which you seem to be consult with your doctor or a free clinic doctor about using a regimen of ipipromol - which is not a real expensive prescription. also it is not habit forming (get opinions from your doc to verify but often us docs do not know this item but they could look it up) like xanax or lorazepam and can lessen your anxiety level in a day or two (1) to help you sleep (for renewed energy) and (2) feel more normal and balanced to be able to map out a plan to deal more fully with your underlying problems. if you cannot afford a doctor you must find a free mental health clinic somewhere nearby that you can get to without too many hassles for some help with diagnoses. they are out there. even if you have to take a bus -whatever- make the effort! there is a reasonable chance that with anxiety there also is depression. both things should and must be treated to resume a truly \"normal life. \" it'll take time but don't hesitate to be active right now get started get on the phone see where you might get opipromol (it works quickly and is not too strong) and find that free mental health clinic. you can do it. get help from anyone willing and trustworthy. best of luck to you my friend. there is help out there somewhere. look for it right now.\n"
     ]
    }
   ],
   "source": [
    "print(\"ans -- \" + training_df.iloc[-31][\"answer\"])\n",
    "print(\"ans -- \" + training_df.iloc[-32][\"answer\"])\n",
    "print(\"ans -- \" + training_df.iloc[-33][\"answer\"])\n",
    "print(\"ans -- \" + training_df.iloc[-34][\"answer\"])"
   ]
  },
  {
   "cell_type": "code",
   "execution_count": 35,
   "metadata": {},
   "outputs": [
    {
     "name": "stdout",
     "output_type": "stream",
     "text": [
      "can i reduce weight by going to gym?\n",
      "how to reduce weight through yoga?\n",
      "what do i do when my anxiety causes me mental and physical pain? . ive had anxiety since i was a kid. i dont take medications for it. i cant afford them. ive been trying to live with it and until recently ive done nothing about it. im tired of feeling like this its causing me emotional and physical pain. my relationships with friends and family members have been suffering. it often causes me to \"wig out\". when this occurs i have trouble breathing and chest pain. my whole mood just sours. i need help and i dont know whats wrong. what can i do?\n",
      "to overcome my depression anxiety and stress i started masturbating. i feel weak.\n"
     ]
    }
   ],
   "source": [
    "print(training_df.iloc[-31][\"question\"])\n",
    "print(training_df.iloc[-32][\"question\"])\n",
    "print(training_df.iloc[-33][\"question\"])\n",
    "print(training_df.iloc[-34][\"question\"])"
   ]
  },
  {
   "cell_type": "code",
   "execution_count": null,
   "metadata": {},
   "outputs": [],
   "source": []
  }
 ],
 "metadata": {
  "interpreter": {
   "hash": "2db524e06e9f5f4ffedc911c917cb75e12dbc923643829bf417064a77eb14d37"
  },
  "kernelspec": {
   "display_name": "Python 3.8.2 64-bit",
   "name": "python3"
  },
  "language_info": {
   "codemirror_mode": {
    "name": "ipython",
    "version": 3
   },
   "file_extension": ".py",
   "mimetype": "text/x-python",
   "name": "python",
   "nbconvert_exporter": "python",
   "pygments_lexer": "ipython3",
   "version": "3.8.2"
  },
  "orig_nbformat": 4
 },
 "nbformat": 4,
 "nbformat_minor": 2
}
